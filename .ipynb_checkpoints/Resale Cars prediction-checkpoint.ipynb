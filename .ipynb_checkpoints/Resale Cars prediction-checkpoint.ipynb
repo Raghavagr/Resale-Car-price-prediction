{
 "cells": [
  {
   "cell_type": "code",
   "execution_count": 1,
   "metadata": {},
   "outputs": [],
   "source": [
    "import numpy as np\n",
    "import pandas as pd\n",
    "import matplotlib.pyplot as plt\n",
    "import seaborn as sns\n",
    "import scipy.stats as stat\n",
    "\n",
    "import os\n",
    "import re\n",
    "import warnings\n",
    "import pickle as pkl\n",
    "warnings.filterwarnings(\"ignore\")"
   ]
  },
  {
   "cell_type": "code",
   "execution_count": 2,
   "metadata": {},
   "outputs": [],
   "source": [
    "#concat all the data files in single df\n",
    "data = pd.DataFrame()\n",
    "\n",
    "files = [x for x in os.listdir('./Data')]\n",
    "\n",
    "for i in files:\n",
    "    if len(data) == 0:\n",
    "        data = pd.read_csv('./Data/'+i)\n",
    "    else:\n",
    "        data = pd.concat([data, pd.read_csv('./Data/'+i)], 0)"
   ]
  },
  {
   "cell_type": "code",
   "execution_count": 3,
   "metadata": {},
   "outputs": [
    {
     "data": {
      "text/html": [
       "<div>\n",
       "<style scoped>\n",
       "    .dataframe tbody tr th:only-of-type {\n",
       "        vertical-align: middle;\n",
       "    }\n",
       "\n",
       "    .dataframe tbody tr th {\n",
       "        vertical-align: top;\n",
       "    }\n",
       "\n",
       "    .dataframe thead th {\n",
       "        text-align: right;\n",
       "    }\n",
       "</style>\n",
       "<table border=\"1\" class=\"dataframe\">\n",
       "  <thead>\n",
       "    <tr style=\"text-align: right;\">\n",
       "      <th></th>\n",
       "      <th>model</th>\n",
       "      <th>year</th>\n",
       "      <th>mileage</th>\n",
       "      <th>image</th>\n",
       "      <th>color</th>\n",
       "      <th>cost</th>\n",
       "    </tr>\n",
       "  </thead>\n",
       "  <tbody>\n",
       "    <tr>\n",
       "      <th>0</th>\n",
       "      <td>2019 Audi A5 Sportback</td>\n",
       "      <td>2019</td>\n",
       "      <td>36,070 miles</td>\n",
       "      <td>https://cdcssl.ibsrv.net/ibimg/www.carsdirect....</td>\n",
       "      <td>Ibis White</td>\n",
       "      <td>$29,900</td>\n",
       "    </tr>\n",
       "    <tr>\n",
       "      <th>1</th>\n",
       "      <td>2019 Audi A5 Sportback</td>\n",
       "      <td>2019</td>\n",
       "      <td>21,221 miles</td>\n",
       "      <td>https://cdcssl.ibsrv.net/ibimg/www.carsdirect....</td>\n",
       "      <td>Black</td>\n",
       "      <td>$33,900</td>\n",
       "    </tr>\n",
       "    <tr>\n",
       "      <th>2</th>\n",
       "      <td>2019 Audi RS 3</td>\n",
       "      <td>2019</td>\n",
       "      <td>105 miles</td>\n",
       "      <td>https://cdcssl.ibsrv.net/ibimg/www.carsdirect....</td>\n",
       "      <td>Black</td>\n",
       "      <td>$54,900</td>\n",
       "    </tr>\n",
       "    <tr>\n",
       "      <th>3</th>\n",
       "      <td>2018 Audi Q3</td>\n",
       "      <td>2018</td>\n",
       "      <td>49,580 miles</td>\n",
       "      <td>https://cdcssl.ibsrv.net/ibimg/www.carsdirect....</td>\n",
       "      <td>Brilliant Black</td>\n",
       "      <td>$23,900</td>\n",
       "    </tr>\n",
       "    <tr>\n",
       "      <th>4</th>\n",
       "      <td>2018 Audi Q5</td>\n",
       "      <td>2018</td>\n",
       "      <td>48,075 miles</td>\n",
       "      <td>https://cdcssl.ibsrv.net/ibimg/www.carsdirect....</td>\n",
       "      <td>Blue</td>\n",
       "      <td>$32,700</td>\n",
       "    </tr>\n",
       "  </tbody>\n",
       "</table>\n",
       "</div>"
      ],
      "text/plain": [
       "                    model  year       mileage  \\\n",
       "0  2019 Audi A5 Sportback  2019  36,070 miles   \n",
       "1  2019 Audi A5 Sportback  2019  21,221 miles   \n",
       "2          2019 Audi RS 3  2019     105 miles   \n",
       "3            2018 Audi Q3  2018  49,580 miles   \n",
       "4            2018 Audi Q5  2018  48,075 miles   \n",
       "\n",
       "                                               image            color     cost  \n",
       "0  https://cdcssl.ibsrv.net/ibimg/www.carsdirect....       Ibis White  $29,900  \n",
       "1  https://cdcssl.ibsrv.net/ibimg/www.carsdirect....            Black  $33,900  \n",
       "2  https://cdcssl.ibsrv.net/ibimg/www.carsdirect....            Black  $54,900  \n",
       "3  https://cdcssl.ibsrv.net/ibimg/www.carsdirect....  Brilliant Black  $23,900  \n",
       "4  https://cdcssl.ibsrv.net/ibimg/www.carsdirect....             Blue  $32,700  "
      ]
     },
     "execution_count": 3,
     "metadata": {},
     "output_type": "execute_result"
    }
   ],
   "source": [
    "#here is cmplt data\n",
    "data.head()"
   ]
  },
  {
   "cell_type": "code",
   "execution_count": 4,
   "metadata": {
    "scrolled": false
   },
   "outputs": [
    {
     "data": {
      "text/plain": [
       "(6810, 6)"
      ]
     },
     "execution_count": 4,
     "metadata": {},
     "output_type": "execute_result"
    }
   ],
   "source": [
    "#let's copy it before making any chnges in actual data\n",
    "df = data.copy()\n",
    "df.shape"
   ]
  },
  {
   "cell_type": "markdown",
   "metadata": {},
   "source": [
    "## Data Exploration and preprocessing"
   ]
  },
  {
   "cell_type": "markdown",
   "metadata": {},
   "source": [
    "### 1) Target Variable"
   ]
  },
  {
   "cell_type": "code",
   "execution_count": 5,
   "metadata": {},
   "outputs": [
    {
     "data": {
      "text/plain": [
       "221"
      ]
     },
     "execution_count": 5,
     "metadata": {},
     "output_type": "execute_result"
    }
   ],
   "source": [
    "#check is there any null in target variable\n",
    "df['cost'].isnull().sum()"
   ]
  },
  {
   "cell_type": "code",
   "execution_count": 6,
   "metadata": {},
   "outputs": [],
   "source": [
    "#it is our target variable so, let's simply drop it out\n",
    "df = df[pd.notnull(df['cost'])]"
   ]
  },
  {
   "cell_type": "code",
   "execution_count": 7,
   "metadata": {},
   "outputs": [],
   "source": [
    "#first remove the $ sign and ',' from the cost\n",
    "df['cost'] = df['cost'].apply(lambda x: (x.replace('$','')).replace(',','')) "
   ]
  },
  {
   "cell_type": "code",
   "execution_count": 8,
   "metadata": {},
   "outputs": [],
   "source": [
    "#transform cost\n",
    "def transform_cost(x):\n",
    "    try:\n",
    "        return float(x)\n",
    "    except:\n",
    "        return x"
   ]
  },
  {
   "cell_type": "code",
   "execution_count": 9,
   "metadata": {},
   "outputs": [],
   "source": [
    "df['cost'] = df['cost'].apply(lambda x: transform_cost(x))"
   ]
  },
  {
   "cell_type": "code",
   "execution_count": 10,
   "metadata": {},
   "outputs": [
    {
     "data": {
      "image/png": "[encoded data removed]",
      "text/plain": [
       "<Figure size 432x288 with 1 Axes>"
      ]
     },
     "metadata": {
      "needs_background": "light"
     },
     "output_type": "display_data"
    }
   ],
   "source": [
    "#distributio plot of cost\n",
    "sns.distplot(df['cost'], bins=30, fit=stat.norm)\n",
    "plt.show()"
   ]
  },
  {
   "cell_type": "code",
   "execution_count": 11,
   "metadata": {},
   "outputs": [
    {
     "name": "stdout",
     "output_type": "stream",
     "text": [
      "1.001370553611522\n",
      "0.9396243959406374\n"
     ]
    }
   ],
   "source": [
    "print(stat.skew(df['cost']))\n",
    "print(stat.kurtosis(df['cost']))"
   ]
  },
  {
   "cell_type": "markdown",
   "metadata": {},
   "source": [
    "* It is a positive skewed (Right-skewed distribution), thus tail lie towards right. The man is also towards the right of the peak."
   ]
  },
  {
   "cell_type": "code",
   "execution_count": 12,
   "metadata": {},
   "outputs": [
    {
     "data": {
      "image/png": "[encoded data removed]",
      "text/plain": [
       "<Figure size 432x288 with 1 Axes>"
      ]
     },
     "metadata": {
      "needs_background": "light"
     },
     "output_type": "display_data"
    }
   ],
   "source": [
    "#to make it normal distribution we can use log-normal distribution. let's see\n",
    "sns.distplot(np.log(df['cost']), bins=30, hist=False)\n",
    "plt.show()"
   ]
  },
  {
   "cell_type": "code",
   "execution_count": 13,
   "metadata": {},
   "outputs": [],
   "source": [
    "# it's ok\n",
    "df['log_cost'] = np.log(df['cost'])"
   ]
  },
  {
   "cell_type": "code",
   "execution_count": 14,
   "metadata": {},
   "outputs": [],
   "source": [
    "#drop the cost\n",
    "df.drop('cost', axis=1, inplace=True)"
   ]
  },
  {
   "cell_type": "markdown",
   "metadata": {},
   "source": [
    "### 2) Model"
   ]
  },
  {
   "cell_type": "code",
   "execution_count": 15,
   "metadata": {},
   "outputs": [
    {
     "data": {
      "text/html": [
       "<div>\n",
       "<style scoped>\n",
       "    .dataframe tbody tr th:only-of-type {\n",
       "        vertical-align: middle;\n",
       "    }\n",
       "\n",
       "    .dataframe tbody tr th {\n",
       "        vertical-align: top;\n",
       "    }\n",
       "\n",
       "    .dataframe thead th {\n",
       "        text-align: right;\n",
       "    }\n",
       "</style>\n",
       "<table border=\"1\" class=\"dataframe\">\n",
       "  <thead>\n",
       "    <tr style=\"text-align: right;\">\n",
       "      <th></th>\n",
       "      <th>model</th>\n",
       "      <th>year</th>\n",
       "      <th>mileage</th>\n",
       "      <th>image</th>\n",
       "      <th>color</th>\n",
       "      <th>log_cost</th>\n",
       "    </tr>\n",
       "  </thead>\n",
       "  <tbody>\n",
       "    <tr>\n",
       "      <th>0</th>\n",
       "      <td>2019 Audi A5 Sportback</td>\n",
       "      <td>2019</td>\n",
       "      <td>36,070 miles</td>\n",
       "      <td>https://cdcssl.ibsrv.net/ibimg/www.carsdirect....</td>\n",
       "      <td>Ibis White</td>\n",
       "      <td>10.305614</td>\n",
       "    </tr>\n",
       "    <tr>\n",
       "      <th>1</th>\n",
       "      <td>2019 Audi A5 Sportback</td>\n",
       "      <td>2019</td>\n",
       "      <td>21,221 miles</td>\n",
       "      <td>https://cdcssl.ibsrv.net/ibimg/www.carsdirect....</td>\n",
       "      <td>Black</td>\n",
       "      <td>10.431170</td>\n",
       "    </tr>\n",
       "  </tbody>\n",
       "</table>\n",
       "</div>"
      ],
      "text/plain": [
       "                    model  year       mileage  \\\n",
       "0  2019 Audi A5 Sportback  2019  36,070 miles   \n",
       "1  2019 Audi A5 Sportback  2019  21,221 miles   \n",
       "\n",
       "                                               image       color   log_cost  \n",
       "0  https://cdcssl.ibsrv.net/ibimg/www.carsdirect....  Ibis White  10.305614  \n",
       "1  https://cdcssl.ibsrv.net/ibimg/www.carsdirect....       Black  10.431170  "
      ]
     },
     "execution_count": 15,
     "metadata": {},
     "output_type": "execute_result"
    }
   ],
   "source": [
    "df.head(2)"
   ]
  },
  {
   "cell_type": "code",
   "execution_count": 16,
   "metadata": {},
   "outputs": [
    {
     "data": {
      "text/plain": [
       "['A5', 'Sportback']"
      ]
     },
     "execution_count": 16,
     "metadata": {},
     "output_type": "execute_result"
    }
   ],
   "source": [
    "s=\"2019 Audi A5 Sportback\"\n",
    "s.split(' ')[2:]"
   ]
  },
  {
   "cell_type": "code",
   "execution_count": 17,
   "metadata": {},
   "outputs": [],
   "source": [
    "model_list = df['model'].tolist()\n",
    "model_company = {}   "
   ]
  },
  {
   "cell_type": "code",
   "execution_count": 18,
   "metadata": {},
   "outputs": [],
   "source": [
    "for i in model_list:\n",
    "    model_name = '' \n",
    "    for model in i.split(' ')[2:]:\n",
    "        model_name += model + ' '\n",
    "    model_name = model_name.rstrip()\n",
    "    \n",
    "    if i.split(' ')[1] not in model_company.keys():\n",
    "        model_company[i.split(' ')[1]] = []\n",
    "        \n",
    "    if model_name not in model_company[i.split(' ')[1]]:\n",
    "        model_company[i.split(' ')[1]].append(model_name)"
   ]
  },
  {
   "cell_type": "code",
   "execution_count": 19,
   "metadata": {},
   "outputs": [],
   "source": [
    "with open('model_transform.pkl', 'wb') as f:\n",
    "    pkl.dump(model_company, f) "
   ]
  },
  {
   "cell_type": "code",
   "execution_count": 20,
   "metadata": {},
   "outputs": [],
   "source": [
    "def model_transform(x):\n",
    "    final = ' '\n",
    "    for i in x.split(' ')[2:]:\n",
    "        final += i\n",
    "    return final"
   ]
  },
  {
   "cell_type": "code",
   "execution_count": 21,
   "metadata": {},
   "outputs": [
    {
     "data": {
      "text/html": [
       "<div>\n",
       "<style scoped>\n",
       "    .dataframe tbody tr th:only-of-type {\n",
       "        vertical-align: middle;\n",
       "    }\n",
       "\n",
       "    .dataframe tbody tr th {\n",
       "        vertical-align: top;\n",
       "    }\n",
       "\n",
       "    .dataframe thead th {\n",
       "        text-align: right;\n",
       "    }\n",
       "</style>\n",
       "<table border=\"1\" class=\"dataframe\">\n",
       "  <thead>\n",
       "    <tr style=\"text-align: right;\">\n",
       "      <th></th>\n",
       "      <th>model</th>\n",
       "      <th>year</th>\n",
       "      <th>mileage</th>\n",
       "      <th>image</th>\n",
       "      <th>color</th>\n",
       "      <th>log_cost</th>\n",
       "    </tr>\n",
       "  </thead>\n",
       "  <tbody>\n",
       "    <tr>\n",
       "      <th>0</th>\n",
       "      <td>2019 Audi A5 Sportback</td>\n",
       "      <td>2019</td>\n",
       "      <td>36,070 miles</td>\n",
       "      <td>https://cdcssl.ibsrv.net/ibimg/www.carsdirect....</td>\n",
       "      <td>Ibis White</td>\n",
       "      <td>10.305614</td>\n",
       "    </tr>\n",
       "    <tr>\n",
       "      <th>1</th>\n",
       "      <td>2019 Audi A5 Sportback</td>\n",
       "      <td>2019</td>\n",
       "      <td>21,221 miles</td>\n",
       "      <td>https://cdcssl.ibsrv.net/ibimg/www.carsdirect....</td>\n",
       "      <td>Black</td>\n",
       "      <td>10.431170</td>\n",
       "    </tr>\n",
       "    <tr>\n",
       "      <th>2</th>\n",
       "      <td>2019 Audi RS 3</td>\n",
       "      <td>2019</td>\n",
       "      <td>105 miles</td>\n",
       "      <td>https://cdcssl.ibsrv.net/ibimg/www.carsdirect....</td>\n",
       "      <td>Black</td>\n",
       "      <td>10.913269</td>\n",
       "    </tr>\n",
       "  </tbody>\n",
       "</table>\n",
       "</div>"
      ],
      "text/plain": [
       "                    model  year       mileage  \\\n",
       "0  2019 Audi A5 Sportback  2019  36,070 miles   \n",
       "1  2019 Audi A5 Sportback  2019  21,221 miles   \n",
       "2          2019 Audi RS 3  2019     105 miles   \n",
       "\n",
       "                                               image       color   log_cost  \n",
       "0  https://cdcssl.ibsrv.net/ibimg/www.carsdirect....  Ibis White  10.305614  \n",
       "1  https://cdcssl.ibsrv.net/ibimg/www.carsdirect....       Black  10.431170  \n",
       "2  https://cdcssl.ibsrv.net/ibimg/www.carsdirect....       Black  10.913269  "
      ]
     },
     "execution_count": 21,
     "metadata": {},
     "output_type": "execute_result"
    }
   ],
   "source": [
    "df.head(3)"
   ]
  },
  {
   "cell_type": "code",
   "execution_count": 22,
   "metadata": {},
   "outputs": [],
   "source": [
    "df['company'] = df['model'].apply(lambda x: x.split(' ')[1])"
   ]
  },
  {
   "cell_type": "code",
   "execution_count": 23,
   "metadata": {},
   "outputs": [],
   "source": [
    "df['model'] = df['model'].apply(lambda x: \"\".join(x.split(' ')[2:]))"
   ]
  },
  {
   "cell_type": "code",
   "execution_count": 24,
   "metadata": {},
   "outputs": [
    {
     "data": {
      "text/html": [
       "<div>\n",
       "<style scoped>\n",
       "    .dataframe tbody tr th:only-of-type {\n",
       "        vertical-align: middle;\n",
       "    }\n",
       "\n",
       "    .dataframe tbody tr th {\n",
       "        vertical-align: top;\n",
       "    }\n",
       "\n",
       "    .dataframe thead th {\n",
       "        text-align: right;\n",
       "    }\n",
       "</style>\n",
       "<table border=\"1\" class=\"dataframe\">\n",
       "  <thead>\n",
       "    <tr style=\"text-align: right;\">\n",
       "      <th></th>\n",
       "      <th>model</th>\n",
       "      <th>year</th>\n",
       "      <th>mileage</th>\n",
       "      <th>image</th>\n",
       "      <th>color</th>\n",
       "      <th>log_cost</th>\n",
       "      <th>company</th>\n",
       "    </tr>\n",
       "  </thead>\n",
       "  <tbody>\n",
       "    <tr>\n",
       "      <th>0</th>\n",
       "      <td>A5Sportback</td>\n",
       "      <td>2019</td>\n",
       "      <td>36,070 miles</td>\n",
       "      <td>https://cdcssl.ibsrv.net/ibimg/www.carsdirect....</td>\n",
       "      <td>Ibis White</td>\n",
       "      <td>10.305614</td>\n",
       "      <td>Audi</td>\n",
       "    </tr>\n",
       "    <tr>\n",
       "      <th>1</th>\n",
       "      <td>A5Sportback</td>\n",
       "      <td>2019</td>\n",
       "      <td>21,221 miles</td>\n",
       "      <td>https://cdcssl.ibsrv.net/ibimg/www.carsdirect....</td>\n",
       "      <td>Black</td>\n",
       "      <td>10.431170</td>\n",
       "      <td>Audi</td>\n",
       "    </tr>\n",
       "    <tr>\n",
       "      <th>2</th>\n",
       "      <td>RS3</td>\n",
       "      <td>2019</td>\n",
       "      <td>105 miles</td>\n",
       "      <td>https://cdcssl.ibsrv.net/ibimg/www.carsdirect....</td>\n",
       "      <td>Black</td>\n",
       "      <td>10.913269</td>\n",
       "      <td>Audi</td>\n",
       "    </tr>\n",
       "    <tr>\n",
       "      <th>3</th>\n",
       "      <td>Q3</td>\n",
       "      <td>2018</td>\n",
       "      <td>49,580 miles</td>\n",
       "      <td>https://cdcssl.ibsrv.net/ibimg/www.carsdirect....</td>\n",
       "      <td>Brilliant Black</td>\n",
       "      <td>10.081634</td>\n",
       "      <td>Audi</td>\n",
       "    </tr>\n",
       "  </tbody>\n",
       "</table>\n",
       "</div>"
      ],
      "text/plain": [
       "         model  year       mileage  \\\n",
       "0  A5Sportback  2019  36,070 miles   \n",
       "1  A5Sportback  2019  21,221 miles   \n",
       "2          RS3  2019     105 miles   \n",
       "3           Q3  2018  49,580 miles   \n",
       "\n",
       "                                               image            color  \\\n",
       "0  https://cdcssl.ibsrv.net/ibimg/www.carsdirect....       Ibis White   \n",
       "1  https://cdcssl.ibsrv.net/ibimg/www.carsdirect....            Black   \n",
       "2  https://cdcssl.ibsrv.net/ibimg/www.carsdirect....            Black   \n",
       "3  https://cdcssl.ibsrv.net/ibimg/www.carsdirect....  Brilliant Black   \n",
       "\n",
       "    log_cost company  \n",
       "0  10.305614    Audi  \n",
       "1  10.431170    Audi  \n",
       "2  10.913269    Audi  \n",
       "3  10.081634    Audi  "
      ]
     },
     "execution_count": 24,
     "metadata": {},
     "output_type": "execute_result"
    }
   ],
   "source": [
    "df.head(4)"
   ]
  },
  {
   "cell_type": "code",
   "execution_count": 25,
   "metadata": {},
   "outputs": [
    {
     "name": "stdout",
     "output_type": "stream",
     "text": [
      "203\n",
      "771\n"
     ]
    }
   ],
   "source": [
    "print(df['model'].nunique())\n",
    "print(data['model'].nunique())"
   ]
  },
  {
   "cell_type": "code",
   "execution_count": 26,
   "metadata": {
    "scrolled": true
   },
   "outputs": [
    {
     "data": {
      "image/png": "[encoded data removed]",
      "text/plain": [
       "<Figure size 432x288 with 1 Axes>"
      ]
     },
     "metadata": {
      "needs_background": "light"
     },
     "output_type": "display_data"
    }
   ],
   "source": [
    "df['company'].value_counts().plot(kind='barh')\n",
    "plt.show()"
   ]
  },
  {
   "cell_type": "markdown",
   "metadata": {},
   "source": [
    "### 3) Mileage"
   ]
  },
  {
   "cell_type": "code",
   "execution_count": 27,
   "metadata": {},
   "outputs": [],
   "source": [
    "#first remove the \"miles\" word and ',' from it\n",
    "df['mileage'] = df['mileage'].apply(lambda x: str(x).split()[0])"
   ]
  },
  {
   "cell_type": "code",
   "execution_count": 28,
   "metadata": {},
   "outputs": [],
   "source": [
    "df['mileage'] = df['mileage'].apply(lambda x: re.sub(',','',x))\n",
    "\n",
    "df['mileage'] = np.where(df['mileage']==\"nan\", -99999, df[\"mileage\"])\n",
    "df['mileage'] = df['mileage'].astype(int)"
   ]
  },
  {
   "cell_type": "code",
   "execution_count": 29,
   "metadata": {},
   "outputs": [
    {
     "data": {
      "text/plain": [
       "year\n",
       "1994    150000.000000\n",
       "1997    123915.000000\n",
       "1998    -99999.000000\n",
       "2000     92822.000000\n",
       "2001    164694.000000\n",
       "2002     98359.333333\n",
       "2003    139603.000000\n",
       "2004     94837.000000\n",
       "2005     60375.400000\n",
       "2006    133225.545455\n",
       "2007    107690.800000\n",
       "2008    107983.375000\n",
       "2009    107229.812500\n",
       "2010    105994.250000\n",
       "2011     95365.909091\n",
       "2012     86946.333333\n",
       "2013     76532.848485\n",
       "2014     70242.533333\n",
       "2015     65608.154286\n",
       "2016     47625.987500\n",
       "2017     32870.189591\n",
       "2018     30256.896115\n",
       "2019     22839.087124\n",
       "2020     16064.624155\n",
       "2021       439.000000\n",
       "Name: mileage, dtype: float64"
      ]
     },
     "execution_count": 29,
     "metadata": {},
     "output_type": "execute_result"
    }
   ],
   "source": [
    "df.groupby('year')['mileage'].mean()"
   ]
  },
  {
   "cell_type": "code",
   "execution_count": 30,
   "metadata": {},
   "outputs": [
    {
     "data": {
      "text/plain": [
       "0"
      ]
     },
     "execution_count": 30,
     "metadata": {},
     "output_type": "execute_result"
    }
   ],
   "source": [
    "df[df['mileage'] == \"nan\"].shape[0]"
   ]
  },
  {
   "cell_type": "code",
   "execution_count": 31,
   "metadata": {},
   "outputs": [],
   "source": [
    "df['mileage'] = df['mileage'].replace(-99999, np.nan)"
   ]
  },
  {
   "cell_type": "code",
   "execution_count": 32,
   "metadata": {},
   "outputs": [],
   "source": [
    "df['mileage'] = df.groupby('year')['mileage'].transform(lambda x: x.fillna(x.mean()))"
   ]
  },
  {
   "cell_type": "code",
   "execution_count": 33,
   "metadata": {},
   "outputs": [
    {
     "data": {
      "text/plain": [
       "1"
      ]
     },
     "execution_count": 33,
     "metadata": {},
     "output_type": "execute_result"
    }
   ],
   "source": [
    "df['mileage'].isnull().sum()"
   ]
  },
  {
   "cell_type": "code",
   "execution_count": 34,
   "metadata": {},
   "outputs": [
    {
     "data": {
      "text/html": [
       "<div>\n",
       "<style scoped>\n",
       "    .dataframe tbody tr th:only-of-type {\n",
       "        vertical-align: middle;\n",
       "    }\n",
       "\n",
       "    .dataframe tbody tr th {\n",
       "        vertical-align: top;\n",
       "    }\n",
       "\n",
       "    .dataframe thead th {\n",
       "        text-align: right;\n",
       "    }\n",
       "</style>\n",
       "<table border=\"1\" class=\"dataframe\">\n",
       "  <thead>\n",
       "    <tr style=\"text-align: right;\">\n",
       "      <th></th>\n",
       "      <th>model</th>\n",
       "      <th>year</th>\n",
       "      <th>mileage</th>\n",
       "      <th>image</th>\n",
       "      <th>color</th>\n",
       "      <th>log_cost</th>\n",
       "      <th>company</th>\n",
       "    </tr>\n",
       "  </thead>\n",
       "  <tbody>\n",
       "    <tr>\n",
       "      <th>46</th>\n",
       "      <td>Durango</td>\n",
       "      <td>1998</td>\n",
       "      <td>NaN</td>\n",
       "      <td>https://cdcssl.ibsrv.net/ibimg/www.carsdirect....</td>\n",
       "      <td>Gray</td>\n",
       "      <td>11.127086</td>\n",
       "      <td>Dodge</td>\n",
       "    </tr>\n",
       "  </tbody>\n",
       "</table>\n",
       "</div>"
      ],
      "text/plain": [
       "      model  year  mileage                                              image  \\\n",
       "46  Durango  1998      NaN  https://cdcssl.ibsrv.net/ibimg/www.carsdirect....   \n",
       "\n",
       "   color   log_cost company  \n",
       "46  Gray  11.127086   Dodge  "
      ]
     },
     "execution_count": 34,
     "metadata": {},
     "output_type": "execute_result"
    }
   ],
   "source": [
    "df[df['mileage'].isnull() == True]"
   ]
  },
  {
   "cell_type": "code",
   "execution_count": 35,
   "metadata": {},
   "outputs": [],
   "source": [
    "#we have to remove this row, we can remove using year\n",
    "df = df[df['year'] != 1998]"
   ]
  },
  {
   "cell_type": "code",
   "execution_count": 36,
   "metadata": {},
   "outputs": [
    {
     "data": {
      "image/png": "[encoded data removed]",
      "text/plain": [
       "<Figure size 432x288 with 1 Axes>"
      ]
     },
     "metadata": {
      "needs_background": "light"
     },
     "output_type": "display_data"
    }
   ],
   "source": [
    "#distribution plot of mileage\n",
    "sns.distplot(df['mileage'],  hist=False)\n",
    "plt.show()"
   ]
  },
  {
   "cell_type": "code",
   "execution_count": 37,
   "metadata": {},
   "outputs": [
    {
     "data": {
      "image/png": "[encoded data removed]",
      "text/plain": [
       "<Figure size 432x288 with 1 Axes>"
      ]
     },
     "metadata": {
      "needs_background": "light"
     },
     "output_type": "display_data"
    }
   ],
   "source": [
    "#let's transform this to normal distribution\n",
    "sns.distplot(df['mileage']**(1/3))\n",
    "plt.show()"
   ]
  },
  {
   "cell_type": "code",
   "execution_count": 38,
   "metadata": {},
   "outputs": [],
   "source": [
    "df['mileage'] = df['mileage'] ** (1/3)"
   ]
  },
  {
   "cell_type": "markdown",
   "metadata": {},
   "source": [
    "**Drop the image column**"
   ]
  },
  {
   "cell_type": "code",
   "execution_count": 39,
   "metadata": {},
   "outputs": [],
   "source": [
    "df.drop('image', axis=1, inplace=True)                                                       "
   ]
  },
  {
   "cell_type": "markdown",
   "metadata": {},
   "source": [
    "### 4) color"
   ]
  },
  {
   "cell_type": "code",
   "execution_count": 40,
   "metadata": {},
   "outputs": [
    {
     "data": {
      "text/html": [
       "<div>\n",
       "<style scoped>\n",
       "    .dataframe tbody tr th:only-of-type {\n",
       "        vertical-align: middle;\n",
       "    }\n",
       "\n",
       "    .dataframe tbody tr th {\n",
       "        vertical-align: top;\n",
       "    }\n",
       "\n",
       "    .dataframe thead th {\n",
       "        text-align: right;\n",
       "    }\n",
       "</style>\n",
       "<table border=\"1\" class=\"dataframe\">\n",
       "  <thead>\n",
       "    <tr style=\"text-align: right;\">\n",
       "      <th></th>\n",
       "      <th>model</th>\n",
       "      <th>year</th>\n",
       "      <th>mileage</th>\n",
       "      <th>color</th>\n",
       "      <th>log_cost</th>\n",
       "      <th>company</th>\n",
       "    </tr>\n",
       "  </thead>\n",
       "  <tbody>\n",
       "    <tr>\n",
       "      <th>0</th>\n",
       "      <td>A5Sportback</td>\n",
       "      <td>2019</td>\n",
       "      <td>33.040660</td>\n",
       "      <td>Ibis White</td>\n",
       "      <td>10.305614</td>\n",
       "      <td>Audi</td>\n",
       "    </tr>\n",
       "    <tr>\n",
       "      <th>1</th>\n",
       "      <td>A5Sportback</td>\n",
       "      <td>2019</td>\n",
       "      <td>27.685686</td>\n",
       "      <td>Black</td>\n",
       "      <td>10.431170</td>\n",
       "      <td>Audi</td>\n",
       "    </tr>\n",
       "    <tr>\n",
       "      <th>2</th>\n",
       "      <td>RS3</td>\n",
       "      <td>2019</td>\n",
       "      <td>4.717694</td>\n",
       "      <td>Black</td>\n",
       "      <td>10.913269</td>\n",
       "      <td>Audi</td>\n",
       "    </tr>\n",
       "  </tbody>\n",
       "</table>\n",
       "</div>"
      ],
      "text/plain": [
       "         model  year    mileage       color   log_cost company\n",
       "0  A5Sportback  2019  33.040660  Ibis White  10.305614    Audi\n",
       "1  A5Sportback  2019  27.685686       Black  10.431170    Audi\n",
       "2          RS3  2019   4.717694       Black  10.913269    Audi"
      ]
     },
     "execution_count": 40,
     "metadata": {},
     "output_type": "execute_result"
    }
   ],
   "source": [
    "df.head(3)"
   ]
  },
  {
   "cell_type": "code",
   "execution_count": 41,
   "metadata": {},
   "outputs": [
    {
     "data": {
      "text/plain": [
       "216"
      ]
     },
     "execution_count": 41,
     "metadata": {},
     "output_type": "execute_result"
    }
   ],
   "source": [
    "df['color'].nunique()"
   ]
  },
  {
   "cell_type": "code",
   "execution_count": 42,
   "metadata": {},
   "outputs": [
    {
     "data": {
      "text/plain": [
       "Burgundy          39\n",
       "Gun Metallic      55\n",
       "Beige             63\n",
       "Summit White      70\n",
       "Red              472\n",
       "Blue             505\n",
       "Silver           621\n",
       "Gray             950\n",
       "White           1018\n",
       "Black           1589\n",
       "Name: color, dtype: int64"
      ]
     },
     "execution_count": 42,
     "metadata": {},
     "output_type": "execute_result"
    }
   ],
   "source": [
    "df['color'].value_counts().sort_values().tail(10)"
   ]
  },
  {
   "cell_type": "markdown",
   "metadata": {},
   "source": [
    "* we are having so many colors, but data in this colors is not sufficient, it's very less as you can see most of the colors appear only once.\n",
    "* So, what we will do is, to keep only 7-10 basic and most wanted colors and impute all the rest colors with this labels. "
   ]
  },
  {
   "cell_type": "code",
   "execution_count": 43,
   "metadata": {},
   "outputs": [
    {
     "data": {
      "text/plain": [
       "471"
      ]
     },
     "execution_count": 43,
     "metadata": {},
     "output_type": "execute_result"
    }
   ],
   "source": [
    "df.color.isnull().sum()"
   ]
  },
  {
   "cell_type": "code",
   "execution_count": 44,
   "metadata": {},
   "outputs": [],
   "source": [
    "#first impute this null with NA and then we will impute with random sample imputation with basic color\n",
    "df['color'].fillna('Not Given', inplace=True)"
   ]
  },
  {
   "cell_type": "code",
   "execution_count": 45,
   "metadata": {},
   "outputs": [],
   "source": [
    "basic_colors = ['Black','White','Silver','Metallic','Gray','Red','Blue','Brown']"
   ]
  },
  {
   "cell_type": "code",
   "execution_count": 46,
   "metadata": {},
   "outputs": [],
   "source": [
    "def color_transform(x):\n",
    "    found=0\n",
    "    for i in basic_colors:\n",
    "        if i in x:\n",
    "            found=1\n",
    "            return i\n",
    "    if found==0:\n",
    "        return x"
   ]
  },
  {
   "cell_type": "code",
   "execution_count": 47,
   "metadata": {},
   "outputs": [],
   "source": [
    "df['color'] = df['color'].apply(lambda x: color_transform(x))"
   ]
  },
  {
   "cell_type": "code",
   "execution_count": 48,
   "metadata": {},
   "outputs": [
    {
     "data": {
      "text/plain": [
       "53"
      ]
     },
     "execution_count": 48,
     "metadata": {},
     "output_type": "execute_result"
    }
   ],
   "source": [
    "df['color'].nunique()"
   ]
  },
  {
   "cell_type": "code",
   "execution_count": 49,
   "metadata": {
    "scrolled": true
   },
   "outputs": [
    {
     "data": {
      "text/plain": [
       "<matplotlib.axes._subplots.AxesSubplot at 0x18f0bae61f0>"
      ]
     },
     "execution_count": 49,
     "metadata": {},
     "output_type": "execute_result"
    },
    {
     "data": {
      "image/png": "[encoded data removed]",
      "text/plain": [
       "<Figure size 432x288 with 1 Axes>"
      ]
     },
     "metadata": {
      "needs_background": "light"
     },
     "output_type": "display_data"
    }
   ],
   "source": [
    "df['color'].value_counts().sort_values(ascending=False)[:10].plot(kind='barh')"
   ]
  },
  {
   "cell_type": "code",
   "execution_count": 50,
   "metadata": {},
   "outputs": [],
   "source": [
    "colors_dict = dict(df['color'].value_counts().sort_values(ascending=False)[:13])"
   ]
  },
  {
   "cell_type": "code",
   "execution_count": 51,
   "metadata": {},
   "outputs": [],
   "source": [
    "#now, let's only keep the top 12 to 13 colors\n",
    "def other_color(x):\n",
    "    if x not in colors_dict:\n",
    "        return \"other\"\n",
    "    else:\n",
    "        return x"
   ]
  },
  {
   "cell_type": "code",
   "execution_count": 52,
   "metadata": {},
   "outputs": [],
   "source": [
    "df['color'] = df['color'].apply(lambda x: other_color(x))"
   ]
  },
  {
   "cell_type": "code",
   "execution_count": 53,
   "metadata": {},
   "outputs": [
    {
     "data": {
      "text/plain": [
       "array(['White', 'Black', 'Blue', 'Gray', 'Not Given', 'Metallic',\n",
       "       'Silver', 'Red', 'other', 'Beige', 'Burgundy', 'Orange', 'Green',\n",
       "       'Brown'], dtype=object)"
      ]
     },
     "execution_count": 53,
     "metadata": {},
     "output_type": "execute_result"
    }
   ],
   "source": [
    "df['color'].unique()"
   ]
  },
  {
   "cell_type": "code",
   "execution_count": 54,
   "metadata": {},
   "outputs": [],
   "source": [
    "df['color'] = df['color'].replace('Not Given', 'N/A')"
   ]
  },
  {
   "cell_type": "markdown",
   "metadata": {},
   "source": [
    "### 5) Year"
   ]
  },
  {
   "cell_type": "code",
   "execution_count": 55,
   "metadata": {},
   "outputs": [],
   "source": [
    "import datetime"
   ]
  },
  {
   "cell_type": "code",
   "execution_count": 56,
   "metadata": {},
   "outputs": [
    {
     "data": {
      "text/plain": [
       "2021"
      ]
     },
     "execution_count": 56,
     "metadata": {},
     "output_type": "execute_result"
    }
   ],
   "source": [
    "#we will take the diff of year puchase model to currrect year\n",
    "current_year = datetime.datetime.now().year\n",
    "current_year"
   ]
  },
  {
   "cell_type": "code",
   "execution_count": 57,
   "metadata": {},
   "outputs": [],
   "source": [
    "df['year'] = current_year - df['year']"
   ]
  },
  {
   "cell_type": "code",
   "execution_count": 58,
   "metadata": {},
   "outputs": [
    {
     "data": {
      "text/html": [
       "<div>\n",
       "<style scoped>\n",
       "    .dataframe tbody tr th:only-of-type {\n",
       "        vertical-align: middle;\n",
       "    }\n",
       "\n",
       "    .dataframe tbody tr th {\n",
       "        vertical-align: top;\n",
       "    }\n",
       "\n",
       "    .dataframe thead th {\n",
       "        text-align: right;\n",
       "    }\n",
       "</style>\n",
       "<table border=\"1\" class=\"dataframe\">\n",
       "  <thead>\n",
       "    <tr style=\"text-align: right;\">\n",
       "      <th></th>\n",
       "      <th>model</th>\n",
       "      <th>year</th>\n",
       "      <th>mileage</th>\n",
       "      <th>color</th>\n",
       "      <th>log_cost</th>\n",
       "      <th>company</th>\n",
       "    </tr>\n",
       "  </thead>\n",
       "  <tbody>\n",
       "    <tr>\n",
       "      <th>0</th>\n",
       "      <td>A5Sportback</td>\n",
       "      <td>2</td>\n",
       "      <td>33.040660</td>\n",
       "      <td>White</td>\n",
       "      <td>10.305614</td>\n",
       "      <td>Audi</td>\n",
       "    </tr>\n",
       "    <tr>\n",
       "      <th>1</th>\n",
       "      <td>A5Sportback</td>\n",
       "      <td>2</td>\n",
       "      <td>27.685686</td>\n",
       "      <td>Black</td>\n",
       "      <td>10.431170</td>\n",
       "      <td>Audi</td>\n",
       "    </tr>\n",
       "    <tr>\n",
       "      <th>2</th>\n",
       "      <td>RS3</td>\n",
       "      <td>2</td>\n",
       "      <td>4.717694</td>\n",
       "      <td>Black</td>\n",
       "      <td>10.913269</td>\n",
       "      <td>Audi</td>\n",
       "    </tr>\n",
       "    <tr>\n",
       "      <th>3</th>\n",
       "      <td>Q3</td>\n",
       "      <td>3</td>\n",
       "      <td>36.736872</td>\n",
       "      <td>Black</td>\n",
       "      <td>10.081634</td>\n",
       "      <td>Audi</td>\n",
       "    </tr>\n",
       "    <tr>\n",
       "      <th>4</th>\n",
       "      <td>Q5</td>\n",
       "      <td>3</td>\n",
       "      <td>36.361330</td>\n",
       "      <td>Blue</td>\n",
       "      <td>10.395130</td>\n",
       "      <td>Audi</td>\n",
       "    </tr>\n",
       "  </tbody>\n",
       "</table>\n",
       "</div>"
      ],
      "text/plain": [
       "         model  year    mileage  color   log_cost company\n",
       "0  A5Sportback     2  33.040660  White  10.305614    Audi\n",
       "1  A5Sportback     2  27.685686  Black  10.431170    Audi\n",
       "2          RS3     2   4.717694  Black  10.913269    Audi\n",
       "3           Q3     3  36.736872  Black  10.081634    Audi\n",
       "4           Q5     3  36.361330   Blue  10.395130    Audi"
      ]
     },
     "execution_count": 58,
     "metadata": {},
     "output_type": "execute_result"
    }
   ],
   "source": [
    "df.head()"
   ]
  },
  {
   "cell_type": "markdown",
   "metadata": {},
   "source": [
    "## Categorical Encoding"
   ]
  },
  {
   "cell_type": "code",
   "execution_count": 59,
   "metadata": {},
   "outputs": [],
   "source": [
    "company_transformer = {}\n",
    "\n",
    "unique_comps = list(df['company'].unique())\n",
    "\n",
    "for i in unique_comps:\n",
    "    com_unique = list(df['company'].unique())\n",
    "    for y in com_unique:\n",
    "        if y != i:\n",
    "            ind = com_unique.index(y)\n",
    "            com_unique[ind] = 0\n",
    "    main_ind = com_unique.index(i)\n",
    "    com_unique[main_ind] = 1\n",
    "    company_transformer[i] = com_unique"
   ]
  },
  {
   "cell_type": "code",
   "execution_count": 65,
   "metadata": {},
   "outputs": [],
   "source": [
    "with open('companies.pkl','wb') as f:\n",
    "    pkl.dump(company_transformer, f)"
   ]
  },
  {
   "cell_type": "code",
   "execution_count": 70,
   "metadata": {},
   "outputs": [],
   "source": [
    "#color transformer\n",
    "color_transformer = {}\n",
    "unique_colors = list(df['color'].unique())\n",
    "\n",
    "for i in unique_colors:\n",
    "    color_unique = list(df['color'].unique())\n",
    "    for j in color_unique:\n",
    "        if j != i:\n",
    "            inde = color_unique.index(j)\n",
    "            color_unique[inde] = 0\n",
    "    main_index = color_unique.index(i)\n",
    "    color_unique[main_index] = 1\n",
    "    color_transformer[i] = color_unique"
   ]
  },
  {
   "cell_type": "code",
   "execution_count": 71,
   "metadata": {},
   "outputs": [],
   "source": [
    "with open('color_transform.pkl','wb') as f:\n",
    "    pkl.dump(color_transformer, f)"
   ]
  },
  {
   "cell_type": "code",
   "execution_count": 72,
   "metadata": {},
   "outputs": [],
   "source": [
    "# company, color using one-hot encoding\n",
    "company = pd.get_dummies(df['company'])\n",
    "colors = pd.get_dummies(df['color'])"
   ]
  },
  {
   "cell_type": "code",
   "execution_count": 73,
   "metadata": {},
   "outputs": [],
   "source": [
    "df = pd.concat([df, company, colors], axis=1)"
   ]
  },
  {
   "cell_type": "code",
   "execution_count": 74,
   "metadata": {},
   "outputs": [],
   "source": [
    "df.drop(['color','company'], axis=1, inplace=True)"
   ]
  },
  {
   "cell_type": "code",
   "execution_count": 75,
   "metadata": {},
   "outputs": [],
   "source": [
    "#encode models\n",
    "unique_models = list(df['model'].unique())\n",
    "\n",
    "def encode_models(x):\n",
    "    return unique_models.index(x)\n",
    "\n",
    "df['model'] = df['model'].apply(lambda x: encode_models(x))"
   ]
  },
  {
   "cell_type": "code",
   "execution_count": 77,
   "metadata": {},
   "outputs": [],
   "source": [
    "with open('model_names.pkl', 'wb') as f:\n",
    "    pkl.dump(unique_models, f)"
   ]
  },
  {
   "cell_type": "code",
   "execution_count": 78,
   "metadata": {},
   "outputs": [
    {
     "data": {
      "text/html": [
       "<div>\n",
       "<style scoped>\n",
       "    .dataframe tbody tr th:only-of-type {\n",
       "        vertical-align: middle;\n",
       "    }\n",
       "\n",
       "    .dataframe tbody tr th {\n",
       "        vertical-align: top;\n",
       "    }\n",
       "\n",
       "    .dataframe thead th {\n",
       "        text-align: right;\n",
       "    }\n",
       "</style>\n",
       "<table border=\"1\" class=\"dataframe\">\n",
       "  <thead>\n",
       "    <tr style=\"text-align: right;\">\n",
       "      <th></th>\n",
       "      <th>model</th>\n",
       "      <th>year</th>\n",
       "      <th>mileage</th>\n",
       "      <th>log_cost</th>\n",
       "      <th>Audi</th>\n",
       "      <th>Chevrolet</th>\n",
       "      <th>Chrysler</th>\n",
       "      <th>Dodge</th>\n",
       "      <th>Ford</th>\n",
       "      <th>Honda</th>\n",
       "      <th>...</th>\n",
       "      <th>Burgundy</th>\n",
       "      <th>Gray</th>\n",
       "      <th>Green</th>\n",
       "      <th>Metallic</th>\n",
       "      <th>N/A</th>\n",
       "      <th>Orange</th>\n",
       "      <th>Red</th>\n",
       "      <th>Silver</th>\n",
       "      <th>White</th>\n",
       "      <th>other</th>\n",
       "    </tr>\n",
       "  </thead>\n",
       "  <tbody>\n",
       "    <tr>\n",
       "      <th>0</th>\n",
       "      <td>0</td>\n",
       "      <td>2</td>\n",
       "      <td>33.040660</td>\n",
       "      <td>10.305614</td>\n",
       "      <td>1</td>\n",
       "      <td>0</td>\n",
       "      <td>0</td>\n",
       "      <td>0</td>\n",
       "      <td>0</td>\n",
       "      <td>0</td>\n",
       "      <td>...</td>\n",
       "      <td>0</td>\n",
       "      <td>0</td>\n",
       "      <td>0</td>\n",
       "      <td>0</td>\n",
       "      <td>0</td>\n",
       "      <td>0</td>\n",
       "      <td>0</td>\n",
       "      <td>0</td>\n",
       "      <td>1</td>\n",
       "      <td>0</td>\n",
       "    </tr>\n",
       "    <tr>\n",
       "      <th>1</th>\n",
       "      <td>0</td>\n",
       "      <td>2</td>\n",
       "      <td>27.685686</td>\n",
       "      <td>10.431170</td>\n",
       "      <td>1</td>\n",
       "      <td>0</td>\n",
       "      <td>0</td>\n",
       "      <td>0</td>\n",
       "      <td>0</td>\n",
       "      <td>0</td>\n",
       "      <td>...</td>\n",
       "      <td>0</td>\n",
       "      <td>0</td>\n",
       "      <td>0</td>\n",
       "      <td>0</td>\n",
       "      <td>0</td>\n",
       "      <td>0</td>\n",
       "      <td>0</td>\n",
       "      <td>0</td>\n",
       "      <td>0</td>\n",
       "      <td>0</td>\n",
       "    </tr>\n",
       "    <tr>\n",
       "      <th>2</th>\n",
       "      <td>1</td>\n",
       "      <td>2</td>\n",
       "      <td>4.717694</td>\n",
       "      <td>10.913269</td>\n",
       "      <td>1</td>\n",
       "      <td>0</td>\n",
       "      <td>0</td>\n",
       "      <td>0</td>\n",
       "      <td>0</td>\n",
       "      <td>0</td>\n",
       "      <td>...</td>\n",
       "      <td>0</td>\n",
       "      <td>0</td>\n",
       "      <td>0</td>\n",
       "      <td>0</td>\n",
       "      <td>0</td>\n",
       "      <td>0</td>\n",
       "      <td>0</td>\n",
       "      <td>0</td>\n",
       "      <td>0</td>\n",
       "      <td>0</td>\n",
       "    </tr>\n",
       "    <tr>\n",
       "      <th>3</th>\n",
       "      <td>2</td>\n",
       "      <td>3</td>\n",
       "      <td>36.736872</td>\n",
       "      <td>10.081634</td>\n",
       "      <td>1</td>\n",
       "      <td>0</td>\n",
       "      <td>0</td>\n",
       "      <td>0</td>\n",
       "      <td>0</td>\n",
       "      <td>0</td>\n",
       "      <td>...</td>\n",
       "      <td>0</td>\n",
       "      <td>0</td>\n",
       "      <td>0</td>\n",
       "      <td>0</td>\n",
       "      <td>0</td>\n",
       "      <td>0</td>\n",
       "      <td>0</td>\n",
       "      <td>0</td>\n",
       "      <td>0</td>\n",
       "      <td>0</td>\n",
       "    </tr>\n",
       "    <tr>\n",
       "      <th>4</th>\n",
       "      <td>3</td>\n",
       "      <td>3</td>\n",
       "      <td>36.361330</td>\n",
       "      <td>10.395130</td>\n",
       "      <td>1</td>\n",
       "      <td>0</td>\n",
       "      <td>0</td>\n",
       "      <td>0</td>\n",
       "      <td>0</td>\n",
       "      <td>0</td>\n",
       "      <td>...</td>\n",
       "      <td>0</td>\n",
       "      <td>0</td>\n",
       "      <td>0</td>\n",
       "      <td>0</td>\n",
       "      <td>0</td>\n",
       "      <td>0</td>\n",
       "      <td>0</td>\n",
       "      <td>0</td>\n",
       "      <td>0</td>\n",
       "      <td>0</td>\n",
       "    </tr>\n",
       "  </tbody>\n",
       "</table>\n",
       "<p>5 rows × 31 columns</p>\n",
       "</div>"
      ],
      "text/plain": [
       "   model  year    mileage   log_cost  Audi  Chevrolet  Chrysler  Dodge  Ford  \\\n",
       "0      0     2  33.040660  10.305614     1          0         0      0     0   \n",
       "1      0     2  27.685686  10.431170     1          0         0      0     0   \n",
       "2      1     2   4.717694  10.913269     1          0         0      0     0   \n",
       "3      2     3  36.736872  10.081634     1          0         0      0     0   \n",
       "4      3     3  36.361330  10.395130     1          0         0      0     0   \n",
       "\n",
       "   Honda  ...  Burgundy  Gray  Green  Metallic  N/A  Orange  Red  Silver  \\\n",
       "0      0  ...         0     0      0         0    0       0    0       0   \n",
       "1      0  ...         0     0      0         0    0       0    0       0   \n",
       "2      0  ...         0     0      0         0    0       0    0       0   \n",
       "3      0  ...         0     0      0         0    0       0    0       0   \n",
       "4      0  ...         0     0      0         0    0       0    0       0   \n",
       "\n",
       "   White  other  \n",
       "0      1      0  \n",
       "1      0      0  \n",
       "2      0      0  \n",
       "3      0      0  \n",
       "4      0      0  \n",
       "\n",
       "[5 rows x 31 columns]"
      ]
     },
     "execution_count": 78,
     "metadata": {},
     "output_type": "execute_result"
    }
   ],
   "source": [
    "df.head()"
   ]
  },
  {
   "cell_type": "markdown",
   "metadata": {},
   "source": [
    "## Model Building"
   ]
  },
  {
   "cell_type": "code",
   "execution_count": 79,
   "metadata": {},
   "outputs": [],
   "source": [
    "from sklearn.model_selection import train_test_split\n",
    "\n",
    "from sklearn.linear_model import LinearRegression, Lasso, ElasticNet, Ridge\n",
    "from sklearn.tree import DecisionTreeRegressor\n",
    "from sklearn.ensemble import RandomForestRegressor, VotingRegressor\n",
    "from sklearn.kernel_ridge import KernelRidge\n",
    "from sklearn.neighbors import KNeighborsRegressor\n",
    "\n",
    "from sklearn.ensemble import GradientBoostingRegressor\n",
    "#from xgboost import XGBRegressor\n",
    "#metrics and other cv\n",
    "from sklearn.metrics import mean_squared_error\n",
    "from sklearn.model_selection import RandomizedSearchCV"
   ]
  },
  {
   "cell_type": "code",
   "execution_count": 80,
   "metadata": {},
   "outputs": [],
   "source": [
    "x = df.drop('log_cost', axis=1)\n",
    "y = df['log_cost']"
   ]
  },
  {
   "cell_type": "code",
   "execution_count": 81,
   "metadata": {},
   "outputs": [],
   "source": [
    "x_train, x_test, y_train, y_test = train_test_split(x,y, test_size=0.2, random_state=42)"
   ]
  },
  {
   "cell_type": "code",
   "execution_count": 82,
   "metadata": {},
   "outputs": [],
   "source": [
    "dt_reg = DecisionTreeRegressor()\n",
    "rf_reg = RandomForestRegressor()\n",
    "knn_reg = KNeighborsRegressor()"
   ]
  },
  {
   "cell_type": "code",
   "execution_count": 83,
   "metadata": {},
   "outputs": [
    {
     "name": "stdout",
     "output_type": "stream",
     "text": [
      "0.7488261120035579\n"
     ]
    }
   ],
   "source": [
    "dt_reg.fit(x_train, y_train)\n",
    "dtpred = dt_reg.predict(x_test)\n",
    "print(dt_reg.score(x_test, y_test))"
   ]
  },
  {
   "cell_type": "code",
   "execution_count": 84,
   "metadata": {},
   "outputs": [
    {
     "data": {
      "text/plain": [
       "0.8166302594010655"
      ]
     },
     "execution_count": 84,
     "metadata": {},
     "output_type": "execute_result"
    }
   ],
   "source": [
    "knn_reg.fit(x_train, y_train)\n",
    "knnpred = knn_reg.predict(x_test)\n",
    "knn_reg.score(x_test, y_test)"
   ]
  },
  {
   "cell_type": "code",
   "execution_count": 85,
   "metadata": {},
   "outputs": [
    {
     "data": {
      "text/plain": [
       "0.8509194485563981"
      ]
     },
     "execution_count": 85,
     "metadata": {},
     "output_type": "execute_result"
    }
   ],
   "source": [
    "rf_reg.fit(x_train, y_train)\n",
    "rfpred = dt_reg.predict(x_test)\n",
    "rf_reg.score(x_test, y_test)"
   ]
  },
  {
   "cell_type": "markdown",
   "metadata": {},
   "source": [
    "**RandomForest gives us a nice accuracy. now, we can do a hyperparameter tuning of RandomForest** "
   ]
  },
  {
   "cell_type": "code",
   "execution_count": 86,
   "metadata": {},
   "outputs": [
    {
     "data": {
      "text/plain": [
       "{'n_estimators': [100, 200, 300, 400, 500, 600, 700],\n",
       " 'max_depth': [2, 5, 7, 12, 18, 25],\n",
       " 'max_features': [0.5, 1],\n",
       " 'min_samples_leaf': [2, 4, 5, 7]}"
      ]
     },
     "execution_count": 86,
     "metadata": {},
     "output_type": "execute_result"
    }
   ],
   "source": [
    "n_estimators = [int(x) for x in np.linspace(100, 700, 7)]\n",
    "max_depth = [2, 5, 7, 12, 18, 25]\n",
    "max_features = [0.5, 1]\n",
    "min_samples_leaf = [2, 4, 5, 7]\n",
    "\n",
    "random_grid = dict(n_estimators=n_estimators, max_depth=max_depth, max_features=max_features, \n",
    "                  min_samples_leaf=min_samples_leaf)\n",
    "random_grid"
   ]
  },
  {
   "cell_type": "code",
   "execution_count": 83,
   "metadata": {},
   "outputs": [
    {
     "name": "stdout",
     "output_type": "stream",
     "text": [
      "Fitting 5 folds for each of 20 candidates, totalling 100 fits\n"
     ]
    },
    {
     "name": "stderr",
     "output_type": "stream",
     "text": [
      "[Parallel(n_jobs=-1)]: Using backend LokyBackend with 4 concurrent workers.\n",
      "[Parallel(n_jobs=-1)]: Done  42 tasks      | elapsed:  1.5min\n",
      "[Parallel(n_jobs=-1)]: Done 100 out of 100 | elapsed:  2.7min finished\n"
     ]
    },
    {
     "data": {
      "text/plain": [
       "RandomizedSearchCV(cv=5, estimator=RandomForestRegressor(oob_score=True),\n",
       "                   n_iter=20, n_jobs=-1,\n",
       "                   param_distributions={'max_depth': [2, 5, 7, 12, 18, 25],\n",
       "                                        'max_features': [0.5, 1],\n",
       "                                        'min_samples_leaf': [2, 4, 5, 7],\n",
       "                                        'n_estimators': [100, 200, 300, 400,\n",
       "                                                         500, 600, 700]},\n",
       "                   random_state=42, verbose=1)"
      ]
     },
     "execution_count": 83,
     "metadata": {},
     "output_type": "execute_result"
    }
   ],
   "source": [
    "rfrandom =RandomizedSearchCV(RandomForestRegressor(oob_score = True),param_distributions=random_grid, \n",
    "                              cv=5, n_iter=10, verbose=1, n_jobs=-1, random_state=42)\n",
    "rfrandom.fit(x_train, y_train)"
   ]
  },
  {
   "cell_type": "code",
   "execution_count": 86,
   "metadata": {},
   "outputs": [
    {
     "name": "stdout",
     "output_type": "stream",
     "text": [
      "{'n_estimators': 400, 'min_samples_leaf': 2, 'max_features': 0.5, 'max_depth': 25}\n",
      "0.840820590915286\n",
      "0.15965840578980114\n"
     ]
    }
   ],
   "source": [
    "print(rfrandom.best_params_)\n",
    "print(rfrandom.best_score_)\n",
    "print(np.sqrt(mean_squared_error(y_test, rfrandom.predict(x_test))))"
   ]
  },
  {
   "cell_type": "markdown",
   "metadata": {},
   "source": [
    "**GradientBoostingRegressor**"
   ]
  },
  {
   "cell_type": "code",
   "execution_count": 87,
   "metadata": {},
   "outputs": [],
   "source": [
    "params = {'n_estimators': np.arange(100,500, 100),\n",
    "          'learning_rate': np.arange(0.01, 0.31, 0.05),\n",
    "          'max_features': [0.5, 1],\n",
    "          'max_depth': [3,5,7],\n",
    "          'alpha': [0.5, 0.9, 1]}"
   ]
  },
  {
   "cell_type": "code",
   "execution_count": 88,
   "metadata": {},
   "outputs": [],
   "source": [
    "gb_model = RandomizedSearchCV(GradientBoostingRegressor(), params, cv=5, n_jobs=-1,\n",
    "                              random_state=42).fit(x_train, y_train)"
   ]
  },
  {
   "cell_type": "code",
   "execution_count": 89,
   "metadata": {},
   "outputs": [
    {
     "name": "stdout",
     "output_type": "stream",
     "text": [
      "GradientBoostingRegressor(learning_rate=0.26, max_depth=5, max_features=0.5,\n",
      "                          n_estimators=400)\n",
      "0.8635262478878586\n",
      "0.1570045440050551\n"
     ]
    }
   ],
   "source": [
    "print(gb_model.best_estimator_)\n",
    "print(gb_model.score(x_test, y_test))\n",
    "print(np.sqrt(mean_squared_error(y_test, gb_model.predict(x_test))))"
   ]
  },
  {
   "cell_type": "markdown",
   "metadata": {},
   "source": [
    "**Lasso Regression**"
   ]
  },
  {
   "cell_type": "code",
   "execution_count": 90,
   "metadata": {},
   "outputs": [],
   "source": [
    "from sklearn.pipeline import make_pipeline\n",
    "from sklearn.preprocessing import RobustScaler"
   ]
  },
  {
   "cell_type": "code",
   "execution_count": 91,
   "metadata": {},
   "outputs": [],
   "source": [
    "lr_model = make_pipeline(RobustScaler(), Lasso(alpha=0.0001)).fit(x_train, y_train)"
   ]
  },
  {
   "cell_type": "code",
   "execution_count": 92,
   "metadata": {},
   "outputs": [
    {
     "name": "stdout",
     "output_type": "stream",
     "text": [
      "0.6532674982072598\n",
      "0.2502562499994295\n"
     ]
    }
   ],
   "source": [
    "print(lr_model.score(x_test, y_test))\n",
    "print(np.sqrt(mean_squared_error(y_test, lr_model.predict(x_test))))"
   ]
  },
  {
   "cell_type": "markdown",
   "metadata": {},
   "source": [
    "**ElasticNet**"
   ]
  },
  {
   "cell_type": "code",
   "execution_count": 93,
   "metadata": {},
   "outputs": [],
   "source": [
    "elastic_reg = ElasticNet(alpha=0.001, l1_ratio=0.5).fit(x_train, y_train)"
   ]
  },
  {
   "cell_type": "code",
   "execution_count": 94,
   "metadata": {},
   "outputs": [
    {
     "name": "stdout",
     "output_type": "stream",
     "text": [
      "0.6511418254668364\n",
      "0.2510221863694416\n"
     ]
    }
   ],
   "source": [
    "print(elastic_reg.score(x_test, y_test))\n",
    "print(np.sqrt(mean_squared_error(y_test, elastic_reg.predict(x_test))))"
   ]
  },
  {
   "cell_type": "markdown",
   "metadata": {},
   "source": [
    "**Kernel Ridge**"
   ]
  },
  {
   "cell_type": "code",
   "execution_count": 95,
   "metadata": {},
   "outputs": [],
   "source": [
    "kr_model = KernelRidge(alpha=0.1).fit(x_train, y_train)"
   ]
  },
  {
   "cell_type": "code",
   "execution_count": 96,
   "metadata": {},
   "outputs": [
    {
     "name": "stdout",
     "output_type": "stream",
     "text": [
      "0.6450693896150662\n",
      "0.25319748288590477\n"
     ]
    }
   ],
   "source": [
    "print(kr_model.score(x_test, y_test))\n",
    "print(np.sqrt(mean_squared_error(y_test, kr_model.predict(x_test)))) "
   ]
  },
  {
   "cell_type": "markdown",
   "metadata": {},
   "source": [
    "**VotingRegressor**"
   ]
  },
  {
   "cell_type": "code",
   "execution_count": 97,
   "metadata": {},
   "outputs": [
    {
     "name": "stdout",
     "output_type": "stream",
     "text": [
      "0.8470524780321778\n",
      "0.16621066168949059\n"
     ]
    }
   ],
   "source": [
    "from sklearn.ensemble import VotingRegressor\n",
    "vr_reg = VotingRegressor([('dt',dt_reg),('knn',knn_reg),('rf',rf_reg)])\n",
    "vr_reg.fit(x_train, y_train)\n",
    "\n",
    "vr_pred = vr_reg.predict(x_test)\n",
    "print(vr_reg.score(x_test, y_test))\n",
    "print(np.sqrt(mean_squared_error(y_test, vr_reg.predict(x_test)))) "
   ]
  },
  {
   "cell_type": "markdown",
   "metadata": {},
   "source": [
    "**GradientBoosting, RandomForest and VotingRegressor performs best till now**\n",
    "\n",
    "#### StackingRegressor"
   ]
  },
  {
   "cell_type": "code",
   "execution_count": 98,
   "metadata": {},
   "outputs": [],
   "source": [
    "from sklearn.ensemble import StackingRegressor"
   ]
  },
  {
   "cell_type": "code",
   "execution_count": 99,
   "metadata": {},
   "outputs": [],
   "source": [
    "stack_2 = [('gb', gb_model),\n",
    "           ('en', elastic_reg),\n",
    "           ('vr', vr_reg)\n",
    "          ]"
   ]
  },
  {
   "cell_type": "code",
   "execution_count": 100,
   "metadata": {},
   "outputs": [],
   "source": [
    "stack_model = StackingRegressor(stack_2, Lasso(alpha=0.001)).fit(x_train, y_train)"
   ]
  },
  {
   "cell_type": "code",
   "execution_count": 104,
   "metadata": {},
   "outputs": [
    {
     "name": "stdout",
     "output_type": "stream",
     "text": [
      "0.15136011220955242\n",
      "0.8731625301457402\n"
     ]
    }
   ],
   "source": [
    "print(np.sqrt(mean_squared_error(y_test, stack_model.predict(x_test))))\n",
    "print(stack_model.score(x_test, y_test))"
   ]
  },
  {
   "cell_type": "code",
   "execution_count": 105,
   "metadata": {},
   "outputs": [],
   "source": [
    "with open('model.pkl','wb') as f:\n",
    "    pkl.dump(stack_model, f)"
   ]
  },
  {
   "cell_type": "markdown",
   "metadata": {},
   "source": [
    "### Stack_2 gives us the best performance\n",
    "\n",
    "models used for ensemble\n",
    "- Gradient Boosting\n",
    "- elastic net\n",
    "- voting regressor"
   ]
  },
  {
   "cell_type": "code",
   "execution_count": null,
   "metadata": {},
   "outputs": [],
   "source": []
  }
 ],
 "metadata": {
  "kernelspec": {
   "display_name": "Python 3",
   "language": "python",
   "name": "python3"
  },
  "language_info": {
   "codemirror_mode": {
    "name": "ipython",
    "version": 3
   },
   "file_extension": ".py",
   "mimetype": "text/x-python",
   "name": "python",
   "nbconvert_exporter": "python",
   "pygments_lexer": "ipython3",
   "version": "3.8.3"
  }
 },
 "nbformat": 4,
 "nbformat_minor": 4
}
